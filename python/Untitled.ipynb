{
 "cells": [
  {
   "cell_type": "markdown",
   "metadata": {},
   "source": [
    "def heat_index_calculate(t_celcius, RH):\n",
    "    F = t_celcius*9/5+32\n",
    "    if F >= 80 and F <= 87:\n",
    "        adjust = (RH-85)/10 * (87-F)/5\n",
    "    else:\n",
    "        adjust = 0\n",
    "    HI = - 42.379 + 2.04901523*F + 10.14333127*RH - 0.22475541*F*RH  \\\n",
    "        - 0.00683783*F*F - 0.05481717*RH*RH + 0.00122874*F*F*RH  \\\n",
    "        + 0.00085282*F*RH*RH - 0.00000199*F*F*RH*RH + adjust\n",
    "    return HI"
   ]
  },
  {
   "cell_type": "markdown",
   "metadata": {},
   "source": [
    "temp = '27302'\n",
    "humid = '55434'\n",
    "t_celcius = int(temp)*165/65536-40  # degree Celcius\n",
    "rh = int(humid)*100/65536\n",
    "hi = heat_index_calculate(t_celcius, rh)\n",
    "\n",
    "print('T: %f' % t_celcius)\n",
    "print('RH: %f' % rh)\n",
    "print('HI: %f' % hi)"
   ]
  },
  {
   "cell_type": "code",
   "execution_count": null,
   "metadata": {},
   "outputs": [],
   "source": [
    "%matplotlib tk\n",
    "import matplotlib.pyplot as plt\n",
    "import matplotlib.animation as animation\n",
    "from matplotlib import style\n",
    "import mpld3\n",
    "import numpy as np\n",
    "import random"
   ]
  },
  {
   "cell_type": "code",
   "execution_count": null,
   "metadata": {},
   "outputs": [],
   "source": [
    "style.use('fivethirtyeight')"
   ]
  },
  {
   "cell_type": "code",
   "execution_count": null,
   "metadata": {},
   "outputs": [],
   "source": [
    "fig = plt.figure()\n",
    "ax = fig.add_subplot(1,1,1)\n",
    "xs = []\n",
    "ys = []\n",
    "def animate(i):\n",
    "    xs.append(len(xs)+1)\n",
    "    value = np.random.randint(10)\n",
    "    ys.append(value)\n",
    "    ax.clear()\n",
    "    ax.plot(xs, ys)\n",
    "ani = animation.FuncAnimation(fig, animate, interval=1000)\n",
    "plt.show()"
   ]
  },
  {
   "cell_type": "code",
   "execution_count": 61,
   "metadata": {},
   "outputs": [],
   "source": [
    "import pymongo\n",
    "from pymongo import MongoClient"
   ]
  },
  {
   "cell_type": "code",
   "execution_count": 62,
   "metadata": {},
   "outputs": [],
   "source": [
    "client = MongoClient(host='xproject.ddns.net')"
   ]
  },
  {
   "cell_type": "code",
   "execution_count": 63,
   "metadata": {},
   "outputs": [],
   "source": [
    "db = client['indoor_monitor']"
   ]
  },
  {
   "cell_type": "code",
   "execution_count": 121,
   "metadata": {},
   "outputs": [],
   "source": [
    "sensor_data = db.devices.find(\n",
    "    {\"device_name\":\"ESP8266_01\", \"sensor_data.date\":{'$exists':True}}, \n",
    "    {'_id': 0, 'sensor_data':{'$slice': -1}}\n",
    ").next()"
   ]
  },
  {
   "cell_type": "code",
   "execution_count": 123,
   "metadata": {},
   "outputs": [
    {
     "data": {
      "text/plain": [
       "{'date': datetime.datetime(2019, 7, 25, 13, 49, 40, 999000),\n",
       " 'temp': 25.95367431640625,\n",
       " 'humid': 85.650634765625,\n",
       " 'heat_index': 81.98746750529585,\n",
       " 'warning': 'Caution'}"
      ]
     },
     "execution_count": 123,
     "metadata": {},
     "output_type": "execute_result"
    }
   ],
   "source": [
    "sensor_data['sensor_data'][0]"
   ]
  },
  {
   "cell_type": "code",
   "execution_count": 115,
   "metadata": {},
   "outputs": [],
   "source": [
    "cursor = db.devices.find(\n",
    "    {\"device_name\":\"ESP8266_01\", \"sensor_data.temp\":{'$gt':30}}, \n",
    "    {'_id': 0, 'sensor_data.':1}\n",
    ")"
   ]
  },
  {
   "cell_type": "code",
   "execution_count": null,
   "metadata": {},
   "outputs": [],
   "source": [
    "db_cursor = db.devices.aggregate(\n",
    "    [\n",
    "        {'$match' : {''}}\n",
    "    ]\n",
    ")"
   ]
  },
  {
   "cell_type": "code",
   "execution_count": 120,
   "metadata": {},
   "outputs": [
    {
     "data": {
      "text/plain": [
       "{'device_name': 'ESP8266_01',\n",
       " 'sensor_data': [{'date': datetime.datetime(2019, 7, 25, 13, 49, 40, 999000),\n",
       "   'temp': 25.95367431640625,\n",
       "   'humid': 85.650634765625,\n",
       "   'heat_index': 81.98746750529585,\n",
       "   'warning': 'Caution'}]}"
      ]
     },
     "execution_count": 120,
     "metadata": {},
     "output_type": "execute_result"
    }
   ],
   "source": [
    "cursor.next()"
   ]
  },
  {
   "cell_type": "code",
   "execution_count": 1,
   "metadata": {},
   "outputs": [],
   "source": [
    "import json"
   ]
  },
  {
   "cell_type": "code",
   "execution_count": 3,
   "metadata": {},
   "outputs": [],
   "source": [
    "with open('/home/huy/devices.json', 'r') as file:\n",
    "    json_strings = file.readlines()"
   ]
  },
  {
   "cell_type": "code",
   "execution_count": 5,
   "metadata": {},
   "outputs": [],
   "source": [
    "sensor_data = []\n",
    "for line in json_strings:\n",
    "    sensor_data.append(json.loads(line))"
   ]
  },
  {
   "cell_type": "code",
   "execution_count": 6,
   "metadata": {},
   "outputs": [
    {
     "name": "stdout",
     "output_type": "stream",
     "text": [
      "{'_id': {'$oid': '5d34bf7c7fd4520b24761184'}, 'device_name': 'ESP8266_01', 'date': {'$date': '2019-07-21T19:39:40.157Z'}, 'temp': 30.20355224609375, 'humid': 89.080810546875}\n"
     ]
    }
   ],
   "source": [
    "print(sensor_data[0])"
   ]
  },
  {
   "cell_type": "code",
   "execution_count": 8,
   "metadata": {},
   "outputs": [],
   "source": [
    "one_json_dict = {\n",
    "    'device_name' : 'ESP8266_01',\n",
    "    'sensor_data' : []\n",
    "}"
   ]
  },
  {
   "cell_type": "code",
   "execution_count": 40,
   "metadata": {},
   "outputs": [],
   "source": [
    "for d in sensor_data:\n",
    "    sensor = {\n",
    "        'date' : d['date'],\n",
    "        'temp' : d['temp'],\n",
    "        'humid' : d['humid']\n",
    "    }\n",
    "    if all(elem in d.keys() for elem in ['heat_index', 'warning']):\n",
    "        sensor.update({'heat_index':d['heat_index'], 'warning':d['warning']})\n",
    "    one_json_dict['sensor_data'].append(sensor)"
   ]
  },
  {
   "cell_type": "code",
   "execution_count": null,
   "metadata": {},
   "outputs": [],
   "source": [
    "one_json_dict"
   ]
  },
  {
   "cell_type": "code",
   "execution_count": 42,
   "metadata": {},
   "outputs": [],
   "source": [
    "sensor_data_json = json.dumps(one_json_dict)\n",
    "sensor_data_json = sensor_data_json.encode().decode('unicode_escape')"
   ]
  },
  {
   "cell_type": "code",
   "execution_count": 60,
   "metadata": {},
   "outputs": [],
   "source": [
    "with open('mongo_data.json', 'w') as file:\n",
    "    file.write(sensor_data_json)"
   ]
  },
  {
   "cell_type": "code",
   "execution_count": null,
   "metadata": {
    "scrolled": true
   },
   "outputs": [],
   "source": [
    "sensor_data_json.encode().decode('unicode_escape')"
   ]
  },
  {
   "cell_type": "code",
   "execution_count": 45,
   "metadata": {},
   "outputs": [
    {
     "name": "stdout",
     "output_type": "stream",
     "text": [
      "/home/huy/projects/python\r\n"
     ]
    }
   ],
   "source": [
    "!pwd"
   ]
  },
  {
   "cell_type": "code",
   "execution_count": 57,
   "metadata": {},
   "outputs": [],
   "source": [
    "with open('test.json', 'w') as file:\n",
    "    file.write('\"\"')"
   ]
  },
  {
   "cell_type": "code",
   "execution_count": 34,
   "metadata": {},
   "outputs": [
    {
     "data": {
      "text/plain": [
       "'2'"
      ]
     },
     "execution_count": 34,
     "metadata": {},
     "output_type": "execute_result"
    }
   ],
   "source": []
  },
  {
   "cell_type": "code",
   "execution_count": null,
   "metadata": {},
   "outputs": [],
   "source": []
  }
 ],
 "metadata": {
  "kernelspec": {
   "display_name": "Python 3",
   "language": "python",
   "name": "python3"
  },
  "language_info": {
   "codemirror_mode": {
    "name": "ipython",
    "version": 3
   },
   "file_extension": ".py",
   "mimetype": "text/x-python",
   "name": "python",
   "nbconvert_exporter": "python",
   "pygments_lexer": "ipython3",
   "version": "3.6.8"
  }
 },
 "nbformat": 4,
 "nbformat_minor": 2
}
