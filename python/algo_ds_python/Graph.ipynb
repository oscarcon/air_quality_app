{
 "cells": [
  {
   "cell_type": "code",
   "execution_count": 1,
   "metadata": {},
   "outputs": [],
   "source": [
    "import numpy as np"
   ]
  },
  {
   "cell_type": "code",
   "execution_count": null,
   "metadata": {},
   "outputs": [],
   "source": [
    "#code\n",
    "class Graph:\n",
    "    def __init__(self, _vertices, _edges):\n",
    "        self.vertices = _vertices\n",
    "        self.edges = _edges\n",
    "        self.adjlist = [list() for _ in range(self.vertices)]\n",
    "    def add(self, nodeA, nodeB):\n",
    "        self.adjlist[nodeA].append(nodeB)\n",
    "        self.adjlist[nodeB].append(nodeA)\n",
    "    def print_graph():\n",
    "        for i in range(self.vertices):\n",
    "            print(i, end='')\n",
    "            for node in node_list:\n",
    "                print('-> ' + chr(node), end='')\n",
    "            print()\n",
    "\n",
    "if __name__ = '__main__':\n",
    "    T = input()\n",
    "    for i in range(T):\n",
    "        V = input()\n",
    "        E = input()\n",
    "        graph = Graph(V,E)\n",
    "        for j in range(E):\n",
    "            nodeA = input()\n",
    "            nodeB = input()\n",
    "            graph.add(nodeA, nodeB)\n",
    "        graph.print_graph()"
   ]
  }
 ],
 "metadata": {
  "kernelspec": {
   "display_name": "Python 3",
   "language": "python",
   "name": "python3"
  },
  "language_info": {
   "codemirror_mode": {
    "name": "ipython",
    "version": 3
   },
   "file_extension": ".py",
   "mimetype": "text/x-python",
   "name": "python",
   "nbconvert_exporter": "python",
   "pygments_lexer": "ipython3",
   "version": "3.6.7"
  }
 },
 "nbformat": 4,
 "nbformat_minor": 2
}
