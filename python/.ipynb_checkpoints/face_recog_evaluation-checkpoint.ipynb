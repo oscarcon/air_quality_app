{
 "cells": [
  {
   "cell_type": "code",
   "execution_count": 1,
   "metadata": {},
   "outputs": [],
   "source": [
    "import os\n",
    "import sys\n",
    "import face_recognition\n",
    "import re\n",
    "import sklearn\n",
    "import traceback\n",
    "import numpy as np\n",
    "import pickle\n",
    "import pandas as pd"
   ]
  },
  {
   "cell_type": "code",
   "execution_count": null,
   "metadata": {
    "scrolled": false
   },
   "outputs": [],
   "source": [
    "# YALE B dataset\n",
    "os.chdir('/home/huy/Downloads/face-dataset/YALE/faceonly/')\n",
    "\n",
    "train_set = []\n",
    "train_set_label = []\n",
    "\n",
    "test_set = []\n",
    "test_set_label = []\n",
    "\n",
    "test_set_hm  = []\n",
    "test_set_label_hm = []\n",
    "\n",
    "test_file_ext = ['.glasses0.png', '.sleepy0.png', '.noglasses0.png', '.sad0.png']\n",
    "test_file_ext_hm = ['.happy0.png', '.surprised0.png', '.wink0.png', '.leftlight0.png', '.rightlight0.png', '.centerlight0.png']\n",
    "\n",
    "for entry in os.scandir('.'):\n",
    "    if entry.is_dir() == True:\n",
    "        label = re.findall('subject(.+)', entry.name)[0]\n",
    "        if entry.name != 'subject15':\n",
    "            train_set_label.append(label)\n",
    "            image_filename = entry.name + '.normal0.png'\n",
    "            image = face_recognition.load_image_file(os.path.join(entry.path, image_filename))\n",
    "            encoded = face_recognition.face_encodings(image)[0]\n",
    "            train_set.append(encoded)\n",
    "        \n",
    "        for ext in test_file_ext:\n",
    "            img_filename = entry.name + ext\n",
    "            img = face_recognition.load_image_file(os.path.join(entry.path, img_filename))\n",
    "            encoded = face_recognition.face_encodings(img)[0]\n",
    "            test_set.append(encoded)\n",
    "            test_set_label.append(label)\n",
    "        for ext in test_file_ext_hm:\n",
    "            img_filename = entry.name + ext\n",
    "            img = face_recognition.load_image_file(os.path.join(entry.path, img_filename))\n",
    "            try:\n",
    "                h, w, _ = img.shape\n",
    "                roi = [(0,w,h,0)]\n",
    "                encoded = face_recognition.face_encodings(img, known_face_locations=roi)[0]\n",
    "            except :\n",
    "                print(img_filename)\n",
    "            test_set_hm.append(encoded)\n",
    "            test_set_label_hm.append(label)"
   ]
  },
  {
   "cell_type": "code",
   "execution_count": null,
   "metadata": {},
   "outputs": [],
   "source": [
    "# AT face dataset\n",
    "os.chdir('/home/huy/Downloads/face-dataset/att_faces/orl_faces/')\n",
    "train_set = []\n",
    "train_set_label = []\n",
    "\n",
    "test_set = []\n",
    "test_set_label = []\n",
    "\n",
    "test_set_hm  = []\n",
    "test_label_hm = []\n",
    "\n",
    "test_filename = [str(x) + '.pgm' for x in range(2,11)]\n",
    "#test_file_ext_hm = ['.happy0.png', '.surprised0.png', '.wink0.png', '.leftlight0.png', '.rightlight0.png', '.centerlight0.png']\n",
    "\n",
    "\n",
    "for entry in os.scandir('.'):\n",
    "    if entry.is_dir() == True:\n",
    "        label = re.findall('s(.+)', entry.name)[0]\n",
    "        if entry.name not in ['s36', 's37', 's38', 's39', 's40'] :\n",
    "            train_set_label.append(label)\n",
    "            image_filename = '1.pgm'\n",
    "            image = face_recognition.load_image_file(os.path.join(entry.path, image_filename))\n",
    "            encoded = face_recognition.face_encodings(image)[0]\n",
    "            train_set.append(encoded)\n",
    "        \n",
    "        for file in test_filename:\n",
    "            if int(label) >= 36:\n",
    "                label = '36'\n",
    "            img = face_recognition.load_image_file(os.path.join(entry.path, file))\n",
    "            try:\n",
    "                h, w, _ = img.shape\n",
    "                roi = [(0,w,h,0)]\n",
    "                encoded = face_recognition.face_encodings(img, known_face_locations=roi)[0]\n",
    "            except :\n",
    "                print(img_filename)\n",
    "            test_set.append(encoded)\n",
    "            test_set_label.append(label)\n",
    "#         for ext in test_file_ext_hm:\n",
    "#             img_filename = entry.name + ext\n",
    "#             img = face_recognition.load_image_file(os.path.join(entry.path, img_filename))\n",
    "#             try:\n",
    "#                 h, w, _ = img.shape\n",
    "#                 roi = [(0,w,h,0)]\n",
    "#                 encoded = face_recognition.face_encodings(img, known_face_locations=roi)[0]\n",
    "#             except :\n",
    "#                 print(img_filename)\n",
    "#             test_set_hm.append(encoded)\n",
    "#             test_label_hm.append(label)\n"
   ]
  },
  {
   "cell_type": "code",
   "execution_count": null,
   "metadata": {
    "scrolled": false
   },
   "outputs": [],
   "source": [
    "# COLOR FERET dataset\n",
    "os.chdir('/home/huy/Downloads/face-dataset/colorferet/')\n",
    "\n",
    "train_set = []\n",
    "train_set_label = []\n",
    "test_set = []\n",
    "test_set_label = []\n",
    "\n",
    "train_file_ext = ['fa']\n",
    "\n",
    "test_file_ext = ['fb', 'fb_']\n",
    "\n",
    "dataset_summary = {}\n",
    "\n",
    "for entry in os.scandir('.'):\n",
    "    train_sample_count = [0 for _ in range(len(train_file_ext))]\n",
    "    file_count = len(os.listdir(entry.path))\n",
    "    dataset_summary.update({entry.name : file_count})\n",
    "    for file in os.scandir(entry.path):\n",
    "        for i, ext in enumerate(train_file_ext):\n",
    "            if int(entry.name) < 1000:\n",
    "                if ext in file.name:\n",
    "                    if train_sample_count[i] < 1:\n",
    "                        try:\n",
    "                            im = face_recognition.load_image_file(file.path)\n",
    "                            encoded_face = face_recognition.face_encodings(im)[0]\n",
    "                            train_set.append(encoded_face)\n",
    "                            train_set_label.append(entry.name)\n",
    "                        except:\n",
    "                            print(file.name)\n",
    "                    train_sample_count[i] += 1\n",
    "        \n",
    "#     if train_sample_count[0] == 0:\n",
    "#         print(entry.name)\n",
    "#     folder_count += 1\n",
    "# print(count)\n",
    "        \n",
    "            \n",
    "        for i, ext in enumerate(test_file_ext):\n",
    "            if ext in file.name:\n",
    "                im = face_recognition.load_image_file(file.path)\n",
    "                try:\n",
    "                    encoded_face = face_recognition.face_encodings(im)[0]\n",
    "                    test_set.append(encoded_face)\n",
    "                    if int(entry.name) < 1000:\n",
    "                        test_set_label.append(entry.name)\n",
    "                    else:\n",
    "                        test_set_label.append('01000')\n",
    "                except:\n",
    "                    print(file.name)"
   ]
  },
  {
   "cell_type": "code",
   "execution_count": null,
   "metadata": {},
   "outputs": [],
   "source": [
    "with open('feret_train.pickle', 'wb') as file:\n",
    "    pickle.dump({'features':train_set, 'labels':train_set_label}, file)"
   ]
  },
  {
   "cell_type": "code",
   "execution_count": null,
   "metadata": {},
   "outputs": [],
   "source": [
    "with open('feret_test.pickle', 'wb') as file:\n",
    "    pickle.dump({'features':test_set, 'labels':test_set_label}, file)"
   ]
  },
  {
   "cell_type": "code",
   "execution_count": null,
   "metadata": {},
   "outputs": [],
   "source": [
    "# COLOR FERET dataset\n",
    "os.chdir('/home/huy/Downloads/face-dataset/colorferet/')\n",
    "with open('feret_train.pickle', 'rb') as file:\n",
    "    train_pickle = pickle.load(file)\n",
    "    train_set = train_pickle['features']\n",
    "    train_set_label = train_pickle['labels']\n",
    "with open('feret_test.pickle', 'rb') as file:\n",
    "    test_pickle = pickle.load(file)\n",
    "    test_set = test_pickle['features']\n",
    "    test_set_label = test_pickle['labels']"
   ]
  },
  {
   "cell_type": "code",
   "execution_count": null,
   "metadata": {},
   "outputs": [],
   "source": [
    "import numpy as np\n",
    "from sklearn.metrics import confusion_matrix, classification_report\n",
    "\n",
    "unknown_class_name = str(max([int(x) for x in train_label]) + 1)\n",
    "\n",
    "def predict(model, sample, **hyperpara):\n",
    "    raw = face_recognition.face_distance(model, sample)\n",
    "    min_distance = np.amin(raw)\n",
    "    min_index = np.argmin(raw)\n",
    "    if min_distance > hyperpara['tolerance']:\n",
    "        return unknown_class_name\n",
    "    return train_set_label[min_index]\n",
    "\n",
    "def evaluate_overall(tolerance=0.5, detail=False):\n",
    "    test_pred = []\n",
    "    number_of_sample = 0\n",
    "    match = 0\n",
    "    not_match = 0\n",
    "    confusing = 0\n",
    "    if detail == True: \n",
    "        \n",
    "        for i, sample in enumerate(test_set):\n",
    "            raw_result = face_recognition.compare_faces(train_set, sample, tolerance=tolerance)\n",
    "            if raw_result.count(True) > 1:\n",
    "                confusing += 1\n",
    "            else:\n",
    "                try:\n",
    "                    index = raw_result.index(True)\n",
    "                    if train_set_label[index] == test_label[i]:\n",
    "                        match += 1\n",
    "                    else:\n",
    "                        not_match += 1\n",
    "                except:\n",
    "                    not_match += 1\n",
    "            number_of_sample += 1\n",
    "    else:\n",
    "        for i, sample in enumerate(test_set):\n",
    "            if predict(train_set, sample, tolerance=tolerance) == test_set_label[i]:\n",
    "                match += 1\n",
    "            else:\n",
    "                not_match += 1\n",
    "            number_of_sample += 1\n",
    "    print('Number of samples: ', number_of_sample)\n",
    "    print('Confusing: ', confusing)\n",
    "    print('Match: ', match)\n",
    "    print('Not match: ', not_match)\n",
    "    return match/number_of_sample\n",
    "\n",
    "test_pred = []\n",
    "def evaluate_confusion_matrix(test_set, true_label, tolerance=0.5):\n",
    "    for i, sample in enumerate(test_set):\n",
    "        test_pred.append(predict(train_set, sample, tolerance=tolerance))\n",
    "    return confusion_matrix(true_label, test_pred)"
   ]
  },
  {
   "cell_type": "code",
   "execution_count": null,
   "metadata": {
    "scrolled": true
   },
   "outputs": [],
   "source": [
    "evaluate_overall(0.6363636363636365)"
   ]
  },
  {
   "cell_type": "code",
   "execution_count": null,
   "metadata": {
    "scrolled": true
   },
   "outputs": [],
   "source": [
    "cfmx = evaluate_confusion_matrix(test_set, test_set_label, tolerance=0.525)\n",
    "cfmx"
   ]
  },
  {
   "cell_type": "code",
   "execution_count": null,
   "metadata": {},
   "outputs": [],
   "source": [
    "import numpy as np\n",
    "from sklearn.metrics import confusion_matrix, classification_report\n",
    "print (sklearn.metrics.accuracy_score(test_set_label, test_pred))\n",
    "print (sklearn.metrics.precision_score(test_set_label, test_pred, average='macro'))\n",
    "print (sklearn.metrics.recall_score(test_set_label, test_pred, average='macro'))\n",
    "print (sklearn.metrics.f1_score(test_set_label, test_pred, average='macro'))"
   ]
  },
  {
   "cell_type": "code",
   "execution_count": null,
   "metadata": {},
   "outputs": [],
   "source": [
    "import numpy as np\n",
    "max_acc = 0\n",
    "good_tolerance = 0\n",
    "for tolerance in np.linspace(0, 1, 100):\n",
    "    acc = evaluate_overall(tolerance)\n",
    "    if acc > max_acc:\n",
    "        good_tolerance = tolerance\n",
    "        max_acc = acc\n",
    "print(\"Max acc: \", max_acc)\n",
    "print(\"Tolerance: \", good_tolerance)"
   ]
  },
  {
   "cell_type": "code",
   "execution_count": null,
   "metadata": {},
   "outputs": [],
   "source": [
    "%matplotlib qt\n",
    "import matplotlib.pyplot as plt\n",
    "import scikitplot as skplt\n",
    "skplt.metrics.plot_confusion_matrix(test_set_label, test_pred, normalize=True)\n",
    "plt.show()"
   ]
  },
  {
   "cell_type": "markdown",
   "metadata": {},
   "source": [
    "Face Recognition Evaluation More Detail"
   ]
  },
  {
   "cell_type": "code",
   "execution_count": null,
   "metadata": {},
   "outputs": [],
   "source": [
    "# AT&T Face database && FERET database\n",
    "# Testing Model performance with different face poses."
   ]
  },
  {
   "cell_type": "markdown",
   "metadata": {},
   "source": [
    "attr id\n",
    "center 0\n",
    "halfleft 1\n",
    "halfright 2\n",
    "headup 3\n",
    "headdown 4"
   ]
  },
  {
   "cell_type": "code",
   "execution_count": 14,
   "metadata": {},
   "outputs": [],
   "source": [
    "# AT face dataset\n",
    "os.chdir('/home/huy/Downloads/face-dataset/att_faces/orl_faces_labeled')\n",
    "\n",
    "test_attr_labels = []\n",
    "\n",
    "train_set = []\n",
    "train_label = []\n",
    "\n",
    "test_set = []\n",
    "test_label = []\n",
    "\n",
    "attr_labels = ['center', 'halfleft', 'halfright', 'headup', 'headdown']\n",
    "\n",
    "class_number = 0\n",
    "\n",
    "for entry in os.scandir('.'):\n",
    "    if entry.is_dir():\n",
    "        if len(entry.name) <= 3:\n",
    "            enough_data = False\n",
    "            for image_entry in os.scandir(entry.path):\n",
    "                for index, value in enumerate(attr_labels):\n",
    "                    if value in image_entry.name:\n",
    "                        image = face_recognition.load_image_file(image_entry.path)\n",
    "                        h, w, _ = image.shape\n",
    "                        roi = [(0,w,h,0)]\n",
    "                        encoded = face_recognition.face_encodings(image, known_face_locations=roi)[0]\n",
    "                        if image_entry.name.startswith('center_1'):\n",
    "                            if not enough_data:\n",
    "                                train_set.append(encoded)\n",
    "                                train_label.append(class_number)\n",
    "                                enough_data = True\n",
    "                        else:\n",
    "                            test_set.append(encoded)\n",
    "                            test_label.append(class_number)\n",
    "                            test_attr_labels.append(index)\n",
    "            class_number += 1"
   ]
  },
  {
   "cell_type": "code",
   "execution_count": 15,
   "metadata": {},
   "outputs": [],
   "source": [
    "attr_group = []\n",
    "for i,v in enumerate(test_attr_labels):\n",
    "    if v not in [x[2] for x in attr_group]:\n",
    "        attr_group.append([[test_set[i]], [test_label[i]], v])\n",
    "    else:\n",
    "        index = [x[2] for x in attr_group].index(v)\n",
    "        attr_group[index][0].append(test_set[i])\n",
    "        attr_group[index][1].append(test_label[i])"
   ]
  },
  {
   "cell_type": "code",
   "execution_count": null,
   "metadata": {},
   "outputs": [],
   "source": []
  },
  {
   "cell_type": "code",
   "execution_count": 4,
   "metadata": {},
   "outputs": [],
   "source": [
    "unknown_class_number = max([int(x) for x in train_label]) + 1\n",
    "def predict(model, sample, **hyperpara):\n",
    "    raw = face_recognition.face_distance(model, sample)\n",
    "    min_distance = np.amin(raw)\n",
    "    min_index = np.argmin(raw)\n",
    "    if min_distance > hyperpara['tolerance']:\n",
    "        return unknown_class_number\n",
    "    return train_label[min_index]\n",
    "\n",
    "def evaluate(test_set, true_label, tolerance=0.5):\n",
    "    test_pred = []\n",
    "    for i, sample in enumerate(test_set):\n",
    "        test_pred.append(predict(train_set, sample, tolerance=tolerance))\n",
    "    return test_pred\n",
    "\n",
    "def evaluate_confusion_matrix(test_set, true_label, tolerance=0.5):\n",
    "    for i, sample in enumerate(test_set):\n",
    "        test_pred.append(predict(train_set, sample, tolerance=tolerance))\n",
    "    return confusion_matrix(true_label, test_pred)"
   ]
  },
  {
   "cell_type": "code",
   "execution_count": 5,
   "metadata": {},
   "outputs": [
    {
     "data": {
      "text/plain": [
       "(5, 3)"
      ]
     },
     "execution_count": 5,
     "metadata": {},
     "output_type": "execute_result"
    }
   ],
   "source": [
    "np.array(attr_group).shape"
   ]
  },
  {
   "cell_type": "code",
   "execution_count": 16,
   "metadata": {},
   "outputs": [],
   "source": [
    "import sklearn.metrics\n",
    "from sklearn.metrics import confusion_matrix\n",
    "from pprint import pprint"
   ]
  },
  {
   "cell_type": "code",
   "execution_count": null,
   "metadata": {},
   "outputs": [],
   "source": [
    "report = []\n",
    "for i in range(0,1):\n",
    "    test_pred = []\n",
    "    test_set, test_label, _ = attr_group[i]\n",
    "    test_pred = evaluate(test_set, test_label, 0.58)\n",
    "    report.append(sklearn.metrics.classification_report(test_label, test_pred, output_dict=True))"
   ]
  },
  {
   "cell_type": "code",
   "execution_count": 17,
   "metadata": {
    "scrolled": true
   },
   "outputs": [],
   "source": [
    "def evaluate_acc(test_label, test_pred):\n",
    "    max_class_number = max(test_pred)\n",
    "    class_samples = [0 for i in range(0,max_class_number+1)]\n",
    "    true_pred = [0 for i in range(0,max_class_number+1)]\n",
    "    for i,v in enumerate(test_pred):\n",
    "        try:\n",
    "            if test_label[i] == v:\n",
    "                true_pred[int(v)] += 1\n",
    "            class_samples[int(v)] += 1\n",
    "        except IndexError:\n",
    "            print(i,v)\n",
    "    return [x/y for x,y in zip(true_pred,class_samples) if y > 0]"
   ]
  },
  {
   "cell_type": "code",
   "execution_count": 24,
   "metadata": {},
   "outputs": [
    {
     "name": "stdout",
     "output_type": "stream",
     "text": [
      "1.0\n",
      "1.0\n",
      "1.0\n",
      "0.6666666666666666\n",
      "0.0\n",
      "0.6666666666666666\n",
      "0.0\n",
      "1.0\n",
      "1.0\n",
      "0.0\n",
      "0.8\n",
      "1.0\n",
      "1.0\n",
      "1.0\n",
      "1.0\n",
      "1.0\n",
      "1.0\n",
      "1.0\n",
      "1.0\n",
      "1.0\n",
      "0.5\n",
      "1.0\n",
      "1.0\n",
      "0.6666666666666666\n",
      "1.0\n",
      "1.0\n",
      "0.6666666666666666\n",
      "1.0\n",
      "0.0\n",
      "1.0\n",
      "1.0\n",
      "1.0\n",
      "0.6666666666666666\n",
      "0.0\n",
      "0.0\n",
      "1.0\n",
      "0.0\n",
      "0.8000000000000002\n",
      "0.0\n",
      "1.0\n",
      "1.0\n",
      "1.0\n",
      "1.0\n",
      "1.0\n",
      "1.0\n",
      "1.0\n",
      "1.0\n",
      "0.7499999999999999\n",
      "0.4\n",
      "1.0\n",
      "1.0\n",
      "1.0\n",
      "0.5714285714285715\n",
      "1.0\n",
      "1.0\n",
      "0.0\n",
      "1.0\n",
      "0.0\n",
      "1.0\n",
      "1.0\n",
      "1.0\n",
      "1.0\n",
      "0.0\n",
      "0.6666666666666666\n",
      "1.0\n",
      "1.0\n",
      "1.0\n",
      "1.0\n",
      "1.0\n",
      "1.0\n",
      "0.0\n",
      "1.0\n",
      "1.0\n",
      "1.0\n",
      "1.0\n",
      "0.0\n",
      "1.0\n",
      "1.0\n",
      "1.0\n",
      "1.0\n",
      "1.0\n",
      "1.0\n",
      "1.0\n",
      "1.0\n",
      "0.0\n",
      "0.0\n",
      "1.0\n",
      "1.0\n",
      "1.0\n",
      "1.0\n",
      "1.0\n",
      "1.0\n",
      "1.0\n",
      "1.0\n",
      "1.0\n",
      "0.0\n",
      "1.0\n",
      "1.0\n",
      "1.0\n",
      "1.0\n",
      "1.0\n",
      "0.0\n",
      "1.0\n",
      "1.0\n",
      "0.0\n",
      "0.0\n",
      "0.0\n",
      "0.0\n",
      "0.0\n",
      "0.0\n",
      "1.0\n",
      "1.0\n",
      "1.0\n",
      "1.0\n",
      "1.0\n",
      "1.0\n",
      "1.0\n",
      "0.0\n",
      "0.0\n",
      "1.0\n",
      "1.0\n",
      "0.0\n",
      "1.0\n",
      "1.0\n",
      "0.5\n",
      "1.0\n"
     ]
    }
   ],
   "source": [
    "std_accs = []\n",
    "std_f1s = []\n",
    "for i in range(0,5):\n",
    "    test_label = attr_group[i][1]\n",
    "    test_pred = []\n",
    "    for index, sample in enumerate(attr_group[i][0]):\n",
    "        test_pred.append(predict(train_set, sample, tolerance=0.58))\n",
    "    report = sklearn.metrics.classification_report(test_label, test_pred, output_dict=True)\n",
    "    f1s = []\n",
    "    for label in range(0,31):\n",
    "        if str(label) in report.keys():\n",
    "            print(report[str(label)]['f1-score'])\n",
    "            f1s.append(report[str(label)]['f1-score'])\n",
    "    accs = evaluate_acc(test_label, test_pred)\n",
    "    std_accs.append(np.std(accs))\n",
    "    std_f1s.append(np.std(f1s))"
   ]
  },
  {
   "cell_type": "code",
   "execution_count": 25,
   "metadata": {},
   "outputs": [
    {
     "data": {
      "text/plain": [
       "[0.3463720202761414,\n",
       " 0.40055757337771797,\n",
       " 0.3646422752776584,\n",
       " 0.3666060555964672,\n",
       " 0.4782600118020415]"
      ]
     },
     "execution_count": 25,
     "metadata": {},
     "output_type": "execute_result"
    }
   ],
   "source": [
    "std_f1s"
   ]
  },
  {
   "cell_type": "code",
   "execution_count": 26,
   "metadata": {},
   "outputs": [
    {
     "data": {
      "text/plain": [
       "[0.28327886186626583,\n",
       " 0.33290900012896,\n",
       " 0.3142696805273545,\n",
       " 0.28177133471338517,\n",
       " 0.43229041164476456]"
      ]
     },
     "execution_count": 26,
     "metadata": {},
     "output_type": "execute_result"
    }
   ],
   "source": [
    "std_accs"
   ]
  },
  {
   "cell_type": "code",
   "execution_count": null,
   "metadata": {},
   "outputs": [],
   "source": [
    "import numpy as np\n",
    "import sklearn.metrics\n",
    "training_report = {\n",
    "    'precision' : [],\n",
    "    'recall' : [],\n",
    "    'threshold' : []\n",
    "}\n",
    "def training():   \n",
    "    max_f1_score = 0\n",
    "    good_tolerance = 0\n",
    "    for tolerance in np.linspace(0, 1, 500):\n",
    "        test_pred = []\n",
    "        for i, sample in enumerate(test_set):\n",
    "            test_pred.append(predict(train_set, sample, tolerance=tolerance))\n",
    "        f1_score = sklearn.metrics.f1_score(test_label, test_pred, average='macro')\n",
    "        precision = sklearn.metrics.precision_score(test_label, test_pred, average='macro')\n",
    "        recall = sklearn.metrics.recall_score(test_label, test_pred, average='macro')\n",
    "        training_report['precision'].append(precision)\n",
    "        training_report['recall'].append(recall)\n",
    "        training_report['threshold'].append(tolerance)\n",
    "        if f1_score > max_f1_score:\n",
    "            good_tolerance = tolerance\n",
    "            max_f1_score = f1_score\n",
    "#     print(\"Max f1 score: \", max_f1_score)\n",
    "#     print(\"Tolerance: \", good_tolerance)\n",
    "    return good_tolerance"
   ]
  },
  {
   "cell_type": "code",
   "execution_count": null,
   "metadata": {
    "scrolled": true
   },
   "outputs": [],
   "source": [
    "training()"
   ]
  },
  {
   "cell_type": "code",
   "execution_count": null,
   "metadata": {},
   "outputs": [],
   "source": [
    "df = pd.DataFrame(training_report)"
   ]
  },
  {
   "cell_type": "code",
   "execution_count": null,
   "metadata": {
    "scrolled": true
   },
   "outputs": [],
   "source": [
    "df"
   ]
  },
  {
   "cell_type": "code",
   "execution_count": null,
   "metadata": {
    "scrolled": true
   },
   "outputs": [],
   "source": [
    "df.to_excel(\"data.xlsx\")"
   ]
  },
  {
   "cell_type": "code",
   "execution_count": null,
   "metadata": {
    "scrolled": false
   },
   "outputs": [],
   "source": [
    "%matplotlib inline\n",
    "import matplotlib.pyplot as plt\n",
    "from scipy.interpolate import make_interp_spline, BSpline\n",
    "from scipy.signal import savgol_filter\n",
    "plt.style.use('grayscale')\n",
    "\n",
    "# x = np.linspace(0,1, 100)\n",
    "# spl1 = make_interp_spline(training_report['threshold'], training_report['precision'], k=9)\n",
    "# spl2 = make_interp_spline(training_report['threshold'], training_report['recall'], k=9)\n",
    "# y1 = spl1(x)\n",
    "# y2 = spl2(x)\n",
    "x = training_report['threshold']\n",
    "y1 = savgol_filter(training_report['precision'], 51, 3)\n",
    "y2 = savgol_filter(training_report['recall'], 51, 3)\n",
    "line1 = plt.plot(x, y1, label='precision')\n",
    "line2 = plt.plot(x, y2, label='recall')\n",
    "plt.legend(loc='lower right')\n",
    "plt.xlabel('threshold')\n",
    "plt.show()"
   ]
  },
  {
   "cell_type": "code",
   "execution_count": null,
   "metadata": {
    "scrolled": true
   },
   "outputs": [],
   "source": [
    "import numpy as np\n",
    "from sklearn.metrics import confusion_matrix, classification_report\n",
    "for i in range(0,5):\n",
    "    test_set = attr_group[i][0]\n",
    "    test_label = attr_group[i][1]\n",
    "    training()\n",
    "    test_pred = []\n",
    "    evaluate_confusion_matrix(test_set, test_label, good_tolerance);\n",
    "    print(attr_labels[i])\n",
    "    print('TOTAL: ', test_attr_labels.count(i))\n",
    "    print ('ACC: ', sklearn.metrics.accuracy_score(test_label, test_pred))\n",
    "    print ('PRECISION: ', sklearn.metrics.precision_score(test_label, test_pred, average='macro'))\n",
    "    print ('RECALL: ', sklearn.metrics.recall_score(test_label, test_pred, average='macro'))\n",
    "    print ('F1 SCORE: ', sklearn.metrics.f1_score(test_label, test_pred, average='macro'))"
   ]
  },
  {
   "cell_type": "code",
   "execution_count": 82,
   "metadata": {},
   "outputs": [],
   "source": [
    "acc_scores = [85.18, 75.17, 90.32, 92.10, 76.47]\n",
    "f1_scores = [80.00, 73.06, 82.45, 84.00, 60.42]\n",
    "face_pose = ['Center', 'Half left', 'Half right', 'Head up', 'Head down']"
   ]
  },
  {
   "cell_type": "code",
   "execution_count": 83,
   "metadata": {},
   "outputs": [],
   "source": [
    "x = list(zip(acc_scores, f1_scores, face_pose))"
   ]
  },
  {
   "cell_type": "code",
   "execution_count": 84,
   "metadata": {},
   "outputs": [
    {
     "data": {
      "text/plain": [
       "[(85.18, 80.0, 'Center'),\n",
       " (75.17, 73.06, 'Half left'),\n",
       " (90.32, 82.45, 'Half right'),\n",
       " (92.1, 84.0, 'Head up'),\n",
       " (76.47, 60.42, 'Head down')]"
      ]
     },
     "execution_count": 84,
     "metadata": {},
     "output_type": "execute_result"
    }
   ],
   "source": [
    "x"
   ]
  },
  {
   "cell_type": "code",
   "execution_count": 85,
   "metadata": {},
   "outputs": [],
   "source": [
    "x.sort(key=lambda x: x[0])"
   ]
  },
  {
   "cell_type": "code",
   "execution_count": 87,
   "metadata": {},
   "outputs": [],
   "source": [
    "acc_scores, f1_scores, face_pose = zip(*x)"
   ]
  },
  {
   "cell_type": "code",
   "execution_count": 88,
   "metadata": {},
   "outputs": [
    {
     "data": {
      "text/plain": [
       "(75.17, 76.47, 85.18, 90.32, 92.1)"
      ]
     },
     "execution_count": 88,
     "metadata": {},
     "output_type": "execute_result"
    }
   ],
   "source": []
  },
  {
   "cell_type": "code",
   "execution_count": 90,
   "metadata": {},
   "outputs": [
    {
     "data": {
      "image/png": "[encoded data removed]",
      "text/plain": [
       "<Figure size 640x480 with 1 Axes>"
      ]
     },
     "metadata": {},
     "output_type": "display_data"
    }
   ],
   "source": [
    "%matplotlib inline\n",
    "import matplotlib.pyplot as plt\n",
    "# plt.style.use('fivethirtyeight')\n",
    "plt.style.use('classic')\n",
    "plt.style.use('grayscale')\n",
    "\n",
    "\n",
    "acc_std_percentage = [x*50 for x in std_accs]\n",
    "f1_std_percentage = [x*50 for x in std_f1s]\n",
    "\n",
    "fig, ax = plt.subplots()\n",
    "bar_width = 0.25\n",
    "x1 = np.arange(len(acc_scores))\n",
    "x2 = [x + bar_width for x in x1]\n",
    "ax.bar(x1, acc_scores, yerr=acc_std_percentage, width=bar_width, alpha=0.5 , label='Accuracy')\n",
    "ax.bar(x2, f1_scores, yerr=f1_std_percentage, width=bar_width, alpha=0.5, label='F1-score')\n",
    "ax.set_ylabel(\"Percentage (%)\")\n",
    "ax.set_xticks([r + bar_width for r in range(len(acc_scores))])\n",
    "ax.set_xticklabels(face_pose)\n",
    "ax.yaxis.grid(True)\n",
    "ax.set_xlabel(\"Face Poses\")\n",
    "fig.legend()\n",
    "plt.show()"
   ]
  },
  {
   "cell_type": "code",
   "execution_count": 33,
   "metadata": {},
   "outputs": [
    {
     "data": {
      "text/plain": [
       "range(0, 4)"
      ]
     },
     "execution_count": 33,
     "metadata": {},
     "output_type": "execute_result"
    }
   ],
   "source": [
    "np.arange(len(acc_scores))"
   ]
  },
  {
   "cell_type": "code",
   "execution_count": null,
   "metadata": {},
   "outputs": [],
   "source": []
  },
  {
   "cell_type": "code",
   "execution_count": null,
   "metadata": {},
   "outputs": [],
   "source": []
  },
  {
   "cell_type": "code",
   "execution_count": null,
   "metadata": {},
   "outputs": [],
   "source": []
  },
  {
   "cell_type": "code",
   "execution_count": null,
   "metadata": {},
   "outputs": [],
   "source": []
  },
  {
   "cell_type": "code",
   "execution_count": null,
   "metadata": {},
   "outputs": [],
   "source": []
  }
 ],
 "metadata": {
  "kernelspec": {
   "display_name": "Python 3",
   "language": "python",
   "name": "python3"
  },
  "language_info": {
   "codemirror_mode": {
    "name": "ipython",
    "version": 3
   },
   "file_extension": ".py",
   "mimetype": "text/x-python",
   "name": "python",
   "nbconvert_exporter": "python",
   "pygments_lexer": "ipython3",
   "version": "3.6.8"
  }
 },
 "nbformat": 4,
 "nbformat_minor": 2
}
