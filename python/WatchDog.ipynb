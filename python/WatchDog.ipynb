{
 "cells": [
  {
   "cell_type": "code",
   "execution_count": 5,
   "metadata": {},
   "outputs": [],
   "source": [
    "import time"
   ]
  },
  {
   "cell_type": "code",
   "execution_count": 6,
   "metadata": {},
   "outputs": [],
   "source": [
    "from watchdog.observers import Observer"
   ]
  },
  {
   "cell_type": "code",
   "execution_count": 7,
   "metadata": {},
   "outputs": [],
   "source": [
    "from watchdog.events import FileSystemEventHandler"
   ]
  },
  {
   "cell_type": "code",
   "execution_count": 14,
   "metadata": {},
   "outputs": [],
   "source": [
    "class Watcher:\n",
    "    DIRECTORY_TO_WATCH = \".\"\n",
    "\n",
    "    def __init__(self):\n",
    "        self.observer = Observer()\n",
    "\n",
    "    def run(self):\n",
    "        event_handler = Handler()\n",
    "        self.observer.schedule(event_handler, self.DIRECTORY_TO_WATCH, recursive=True)\n",
    "        self.observer.start()\n",
    "        try:\n",
    "            while True:\n",
    "                time.sleep(5)\n",
    "        except:\n",
    "            self.observer.stop()\n",
    "            print(\"Error\")\n",
    "        self.observer.join()"
   ]
  },
  {
   "cell_type": "code",
   "execution_count": 15,
   "metadata": {},
   "outputs": [],
   "source": [
    "class Handler(FileSystemEventHandler):\n",
    "\n",
    "    @staticmethod\n",
    "    def on_any_event(event):\n",
    "        if event.is_directory:\n",
    "            return None\n",
    "\n",
    "        elif event.event_type == 'created':\n",
    "            # Take any action here when a file is first created.\n",
    "            print(\"Received created event - %s.\" % event.src_path)\n",
    "\n",
    "        elif event.event_type == 'modified':\n",
    "            # Taken any action here when a file is modified.\n",
    "            print(\"Received modified event - %s.\" % event.src_path)"
   ]
  },
  {
   "cell_type": "code",
   "execution_count": null,
   "metadata": {
    "scrolled": true
   },
   "outputs": [
    {
     "name": "stdout",
     "output_type": "stream",
     "text": [
      "Received created event - ./.~WatchDog.ipynb.\n",
      "Received modified event - ./.~WatchDog.ipynb.\n",
      "Received modified event - ./WatchDog.ipynb.\n",
      "Received modified event - ./WatchDog.ipynb.\n",
      "Received created event - ./test.txt.\n",
      "Received modified event - ./test.txt.\n",
      "Received created event - ./.test.txt.swp.\n",
      "Received modified event - ./.test.txt.swp.\n",
      "Received created event - ./.test.txt.swp.\n",
      "Received modified event - ./.test.txt.swp.\n",
      "Received modified event - ./test.txt.\n",
      "Received created event - ./.test.txt.swp.\n",
      "Received modified event - ./.test.txt.swp.\n",
      "Received modified event - ./test.txt.\n",
      "Received created event - ./.~WatchDog.ipynb.\n",
      "Received modified event - ./.~WatchDog.ipynb.\n",
      "Received modified event - ./WatchDog.ipynb.\n",
      "Received modified event - ./WatchDog.ipynb.\n",
      "Received created event - ./.~WatchDog.ipynb.\n",
      "Received modified event - ./.~WatchDog.ipynb.\n",
      "Received modified event - ./WatchDog.ipynb.\n",
      "Received modified event - ./WatchDog.ipynb.\n",
      "Received modified event - ./.ipynb_checkpoints/WatchDog-checkpoint.ipynb.\n",
      "Received created event - ./.~WatchDog.ipynb.\n",
      "Received modified event - ./.~WatchDog.ipynb.\n",
      "Received modified event - ./WatchDog.ipynb.\n",
      "Received modified event - ./WatchDog.ipynb.\n",
      "Received created event - ./.~WatchDog.ipynb.\n",
      "Received modified event - ./.~WatchDog.ipynb.\n",
      "Received modified event - ./WatchDog.ipynb.\n",
      "Received modified event - ./WatchDog.ipynb.\n",
      "Received created event - ./.~WatchDog.ipynb.\n",
      "Received modified event - ./.~WatchDog.ipynb.\n",
      "Received modified event - ./WatchDog.ipynb.\n",
      "Received modified event - ./WatchDog.ipynb.\n",
      "Received created event - ./.~WatchDog.ipynb.\n",
      "Received modified event - ./.~WatchDog.ipynb.\n",
      "Received modified event - ./WatchDog.ipynb.\n",
      "Received modified event - ./WatchDog.ipynb.\n",
      "Received created event - ./.~WatchDog.ipynb.\n",
      "Received modified event - ./.~WatchDog.ipynb.\n",
      "Received modified event - ./WatchDog.ipynb.\n",
      "Received modified event - ./WatchDog.ipynb.\n",
      "Received created event - ./.~WatchDog.ipynb.\n",
      "Received modified event - ./.~WatchDog.ipynb.\n",
      "Received modified event - ./WatchDog.ipynb.\n",
      "Received modified event - ./WatchDog.ipynb.\n",
      "Received created event - ./.~WatchDog.ipynb.\n",
      "Received modified event - ./.~WatchDog.ipynb.\n",
      "Received modified event - ./WatchDog.ipynb.\n",
      "Received modified event - ./WatchDog.ipynb.\n",
      "Received created event - ./.~WatchDog.ipynb.\n",
      "Received modified event - ./.~WatchDog.ipynb.\n",
      "Received modified event - ./WatchDog.ipynb.\n",
      "Received modified event - ./WatchDog.ipynb.\n",
      "Received created event - ./.~WatchDog.ipynb.\n",
      "Received modified event - ./.~WatchDog.ipynb.\n",
      "Received modified event - ./WatchDog.ipynb.\n",
      "Received modified event - ./WatchDog.ipynb.\n",
      "Received created event - ./.~WatchDog.ipynb.\n",
      "Received modified event - ./.~WatchDog.ipynb.\n",
      "Received modified event - ./WatchDog.ipynb.\n",
      "Received modified event - ./WatchDog.ipynb.\n"
     ]
    }
   ],
   "source": [
    "if __name__ == '__main__':\n",
    "    w = Watcher()\n",
    "    w.run()"
   ]
  },
  {
   "cell_type": "code",
   "execution_count": null,
   "metadata": {},
   "outputs": [],
   "source": []
  }
 ],
 "metadata": {
  "kernelspec": {
   "display_name": "Python 3",
   "language": "python",
   "name": "python3"
  },
  "language_info": {
   "codemirror_mode": {
    "name": "ipython",
    "version": 3
   },
   "file_extension": ".py",
   "mimetype": "text/x-python",
   "name": "python",
   "nbconvert_exporter": "python",
   "pygments_lexer": "ipython3",
   "version": "3.6.7"
  }
 },
 "nbformat": 4,
 "nbformat_minor": 2
}
